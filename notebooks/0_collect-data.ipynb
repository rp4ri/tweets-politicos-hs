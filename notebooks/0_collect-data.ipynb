{
 "cells": [
  {
   "cell_type": "code",
   "execution_count": 13,
   "metadata": {},
   "outputs": [],
   "source": [
    "import requests\n",
    "import os\n",
    "import json\n",
    "import pandas as pd\n",
    "#import csv\n",
    "\n",
    "#import datetime\n",
    "#import dateutil.parser\n",
    "#import unicodedata\n",
    "\n",
    "import time"
   ]
  },
  {
   "cell_type": "code",
   "execution_count": 5,
   "metadata": {},
   "outputs": [],
   "source": [
    "bearer_token = os.environ.get(\"TOKEN\")"
   ]
  },
  {
   "cell_type": "code",
   "execution_count": 14,
   "metadata": {},
   "outputs": [],
   "source": [
    "# PARA HACER CONSULTAS EDITAR LOS VALORES DE ABAJO\n",
    "\n",
    "def create_url():\n",
    "    # Replace with user ID below\n",
    "    user_id = 65444625\n",
    "    return \"https://api.twitter.com/2/users/{}/tweets\".format(user_id)\n",
    "\n",
    "\n",
    "def get_params():\n",
    "    # Tweet fields are adjustable.\n",
    "    # Options include:\n",
    "    # attachments, author_id, context_annotations,\n",
    "    # conversation_id, created_at, entities, geo, id,\n",
    "    # in_reply_to_user_id, lang, non_public_metrics, organic_metrics,\n",
    "    # possibly_sensitive, promoted_metrics, public_metrics, referenced_tweets,\n",
    "    # source, text, and withheld\n",
    "    return {\"max_results\": 5,\n",
    "            \"start_time\" : \"2022-08-09T00:00:00Z\",\n",
    "            \"tweet.fields\": \"created_at\"}\n",
    "\n",
    "\n",
    "def bearer_oauth(r):\n",
    "    \"\"\"\n",
    "    Method required by bearer token authentication.\n",
    "    \"\"\"\n",
    "\n",
    "    r.headers[\"Authorization\"] = f\"Bearer {bearer_token}\"\n",
    "    r.headers[\"User-Agent\"] = \"v2UserTweetsPython\"\n",
    "    return r\n",
    "\n",
    "\n",
    "def connect_to_endpoint(url, params):\n",
    "    response = requests.request(\"GET\", url, auth=bearer_oauth, params=params)\n",
    "    print(response.status_code)\n",
    "    if response.status_code != 200:\n",
    "        raise Exception(\n",
    "            \"Request returned an error: {} {}\".format(\n",
    "                response.status_code, response.text\n",
    "            )\n",
    "        )\n",
    "    return response.json()"
   ]
  },
  {
   "cell_type": "code",
   "execution_count": 8,
   "metadata": {},
   "outputs": [],
   "source": [
    "# ERROR SOLO PA RECORDAR QUE COSAS PUEDO METER EN LA URL\n",
    "# Request returned an error: 400 {\"errors\":[{\"parameters\":{\"e\":[\"2\"]},\"message\":\"The query parameter [e] is not one of \n",
    "# [id,since_id,until_id,max_results,pagination_token,exclude,start_time,end_time,expansions,tweet.fields,media.fields,\n",
    "# poll.fields,place.fields,user.fields]\"}],\"title\":\"Invalid Request\",\"detail\":\"One or more parameters to your request \n",
    "# was invalid.\",\"type\":\"https://api.twitter.com/2/problems/invalid-request\"}"
   ]
  },
  {
   "cell_type": "code",
   "execution_count": 15,
   "metadata": {},
   "outputs": [
    {
     "name": "stdout",
     "output_type": "stream",
     "text": [
      "200\n",
      "{\n",
      "    \"data\": [\n",
      "        {\n",
      "            \"created_at\": \"2022-10-23T15:20:40.000Z\",\n",
      "            \"edit_history_tweet_ids\": [\n",
      "                \"1584203159324721152\"\n",
      "            ],\n",
      "            \"id\": \"1584203159324721152\",\n",
      "            \"text\": \"#ParoPorElCenso #SantaCruzBO Stello Cochamanidis, segundo vicepresidente del Comit\\u00e9 C\\u00edvico, advirti\\u00f3 que \\\"si el Gobierno nos sigue manteniendo en las calles, vamos a recorrer cada rinc\\u00f3n de nuestra ciudad, as\\u00ed como en las provincias\\\". | V\\u00eddeo: Kathryn C\\u2026 https://t.co/PiD9yKblT1\"\n",
      "        },\n",
      "        {\n",
      "            \"created_at\": \"2022-10-23T15:08:29.000Z\",\n",
      "            \"edit_history_tweet_ids\": [\n",
      "                \"1584200091891470336\"\n",
      "            ],\n",
      "            \"id\": \"1584200091891470336\",\n",
      "            \"text\": \"Se redujo a categor\\u00eda 3 antes de alcanzar las costas de Santa Cruz, en el estado de Nayarit, con vientos m\\u00e1ximos sostenidos de 195 km/h. #ElDeber #Mundo #M\\u00e9xico https://t.co/EjEgboE8ik\"\n",
      "        },\n",
      "        {\n",
      "            \"created_at\": \"2022-10-23T15:06:10.000Z\",\n",
      "            \"edit_history_tweet_ids\": [\n",
      "                \"1584199508728381440\"\n",
      "            ],\n",
      "            \"id\": \"1584199508728381440\",\n",
      "            \"text\": \"#ParoPorElCenso #SantaCruzBO Rector de la UAGRM Vicente Cuellar brinda conferencia de prensa https://t.co/wvnJ82qfug\"\n",
      "        },\n",
      "        {\n",
      "            \"created_at\": \"2022-10-23T15:03:10.000Z\",\n",
      "            \"edit_history_tweet_ids\": [\n",
      "                \"1584198753472630784\"\n",
      "            ],\n",
      "            \"id\": \"1584198753472630784\",\n",
      "            \"text\": \"SEGUNDA JORNADA DE PARO INDEFINIDO https://t.co/eMZvmYA3l3\"\n",
      "        },\n",
      "        {\n",
      "            \"created_at\": \"2022-10-23T14:58:58.000Z\",\n",
      "            \"edit_history_tweet_ids\": [\n",
      "                \"1584197698298650624\"\n",
      "            ],\n",
      "            \"id\": \"1584197698298650624\",\n",
      "            \"text\": \"#\\u00daltimo | Afines al MAS advierten con cercar Santa Cruz si no se levanta el paro en 48 horas.\\n\\n#ElDeberStreaming #ElDeber https://t.co/99qqevOGxF\"\n",
      "        }\n",
      "    ],\n",
      "    \"meta\": {\n",
      "        \"newest_id\": \"1584203159324721152\",\n",
      "        \"next_token\": \"7140dibdnow9c7btw423x0usm00qynyfnvz57tdydqxpw\",\n",
      "        \"oldest_id\": \"1584197698298650624\",\n",
      "        \"result_count\": 5\n",
      "    }\n",
      "}\n"
     ]
    }
   ],
   "source": [
    "url = create_url()\n",
    "params = get_params()\n",
    "json_response = connect_to_endpoint(url, params)\n",
    "print(json.dumps(json_response, indent=4, sort_keys=True))"
   ]
  },
  {
   "cell_type": "code",
   "execution_count": null,
   "metadata": {},
   "outputs": [],
   "source": []
  }
 ],
 "metadata": {
  "kernelspec": {
   "display_name": "Python 3.8.13 ('base')",
   "language": "python",
   "name": "python3"
  },
  "language_info": {
   "codemirror_mode": {
    "name": "ipython",
    "version": 3
   },
   "file_extension": ".py",
   "mimetype": "text/x-python",
   "name": "python",
   "nbconvert_exporter": "python",
   "pygments_lexer": "ipython3",
   "version": "3.8.13"
  },
  "orig_nbformat": 4,
  "vscode": {
   "interpreter": {
    "hash": "ff4f85d6e04298634172ac5d8264e7e9b556b95639fe52ebb9425c4d4cba0c9c"
   }
  }
 },
 "nbformat": 4,
 "nbformat_minor": 2
}
