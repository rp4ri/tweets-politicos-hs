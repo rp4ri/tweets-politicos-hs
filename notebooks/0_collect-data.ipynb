{
 "cells": [
  {
   "cell_type": "markdown",
   "metadata": {},
   "source": [
    "# Qué hay acá?\n",
    "\n",
    "Esta notebook será usada para obtener los tweets de cuentas de políticos en twitter, se mostrará una descripción de los datos obtenidos"
   ]
  },
  {
   "cell_type": "code",
   "execution_count": 13,
   "metadata": {},
   "outputs": [],
   "source": [
    "import requests\n",
    "import os\n",
    "import json\n",
    "import pandas as pd\n",
    "#import csv\n",
    "\n",
    "#import datetime\n",
    "#import dateutil.parser\n",
    "#import unicodedata\n",
    "\n",
    "import time"
   ]
  },
  {
   "cell_type": "markdown",
   "metadata": {},
   "source": [
    "### Obteniendo tweets"
   ]
  },
  {
   "cell_type": "code",
   "execution_count": 5,
   "metadata": {},
   "outputs": [],
   "source": [
    "bearer_token = os.environ.get(\"TOKEN\")"
   ]
  },
  {
   "cell_type": "code",
   "execution_count": 1,
   "metadata": {},
   "outputs": [],
   "source": [
    "# LuchoXBolivia     -> 1222273871488917504\n",
    "# LuisFerCamachoV   -> 1133033369850339328\n",
    "# carlosdmesag      -> 260852828"
   ]
  },
  {
   "cell_type": "code",
   "execution_count": null,
   "metadata": {},
   "outputs": [],
   "source": [
    "fields = ['author_id', 'created_at', 'id', 'text', 'referenced_tweets', 'in_reply_to_user_id']\n",
    "\n",
    "my_path = \"../data/raw/mesa.json\"\n",
    "my_path_excel = \"../data/raw/mesa.xlsx\"\n",
    "cont = 0\n",
    "\n",
    "df = pd.DataFrame(columns=fields)\n",
    "\n",
    "#for tweet in tweepy.Paginator(client.search_recent_tweets, query=query, tweet_fields=['context_annotations', 'created_at'], max_results=100).flatten(limit=200):\n",
    "for tweet in tweepy.Paginator(client.get_users_tweets, id=260852828,\n",
    "                            tweet_fields=fields,\n",
    "                            end_time=datetime.datetime.now() - datetime.timedelta(days=7),\n",
    "                            start_time=datetime.datetime.now() - datetime.timedelta(days=14),\n",
    "                            expansions='referenced_tweets.id',\n",
    "                            max_results=100).flatten(limit=1000000):\n",
    "    cont+=1\n",
    "    \n",
    "    if cont % 100 == 0:\n",
    "        print(cont)\n",
    "\n",
    "    #try:\n",
    "    # if tweet.reference_tweets has length 0 print cont\n",
    "    if tweet.referenced_tweets:\n",
    "        # if is a retweet get the full text of original tweet, else get the tweet itself\n",
    "        #if tweet.referenced_tweets[0]['type'] == 'retweeted':\n",
    "        if tweet.referenced_tweets[0]['type'] == 'retweeted':\n",
    "            #print('retweet' + str(cont))\n",
    "            original_tweets = client.get_tweets(tweet.referenced_tweets[0]['id'])\n",
    "            for or_tweet in original_tweets:\n",
    "                text = or_tweet[0]\n",
    "                #print(text)\n",
    "                break\n",
    "            # get full text\n",
    "            #text = original_tweet.text\n",
    "\n",
    "            ndict = {'author_id': [str(tweet.author_id)],\n",
    "                'created_at': [str(tweet.created_at)],\n",
    "                'id': [str(tweet.id)],\n",
    "                'text': [str(text)],\n",
    "                'referenced_tweets': [str(tweet.referenced_tweets)],\n",
    "                'in_reply_to_user_id': [str(tweet.in_reply_to_user_id)]}\n",
    "\n",
    "        else:\n",
    "            #print('no retweet' + str(cont))\n",
    "            ndict = {'author_id': [str(tweet.author_id)],\n",
    "                'created_at': [str(tweet.created_at)],\n",
    "                'id': [str(tweet.id)],\n",
    "                'text': [str(tweet.text)],\n",
    "                'referenced_tweets': [str(tweet.referenced_tweets)],\n",
    "                'in_reply_to_user_id': [str(tweet.in_reply_to_user_id)]}\n",
    "    else:\n",
    "        #print('no referenced_tweets' + str(cont))\n",
    "        ndict = {'author_id': [str(tweet.author_id)],\n",
    "            'created_at': [str(tweet.created_at)],\n",
    "            'id': [str(tweet.id)],\n",
    "            'text': [str(tweet.text)],\n",
    "            'referenced_tweets': [str(tweet.referenced_tweets)],\n",
    "            'in_reply_to_user_id': [str(tweet.in_reply_to_user_id)]}\n",
    "    #except:\n",
    "        #ndict = {'author_id': ['error'], 'created_at': ['error'], 'id': ['error'], 'text': ['error'], 'referenced_tweets': ['error'], 'in_reply_to_user_id': ['error']}\n",
    "\n",
    "    df = df.append(pd.DataFrame(ndict), ignore_index=True)\n",
    "\n",
    "#expor to json\n",
    "df.to_json(my_path, orient='records', lines=True, force_ascii=False)\n",
    "print(df.shape)\n",
    "df.head()"
   ]
  },
  {
   "cell_type": "markdown",
   "metadata": {},
   "source": [
    "### Exportaciones"
   ]
  },
  {
   "cell_type": "code",
   "execution_count": null,
   "metadata": {},
   "outputs": [],
   "source": [
    "df.info()"
   ]
  },
  {
   "cell_type": "code",
   "execution_count": null,
   "metadata": {},
   "outputs": [],
   "source": [
    "# convert column 'created_at' to datetime\n",
    "df['created_at'] = pd.to_datetime(df['created_at'])\n",
    "# export to json\n",
    "df.to_json(my_path, orient='records', lines=True, force_ascii=False)"
   ]
  },
  {
   "cell_type": "code",
   "execution_count": null,
   "metadata": {},
   "outputs": [],
   "source": [
    "df.head()"
   ]
  },
  {
   "cell_type": "code",
   "execution_count": null,
   "metadata": {},
   "outputs": [],
   "source": [
    "# describe\n",
    "df.describe()"
   ]
  },
  {
   "cell_type": "code",
   "execution_count": null,
   "metadata": {},
   "outputs": [],
   "source": [
    "# export to excel\n",
    "df.to_excel(my_path_excel, index=False)"
   ]
  }
 ],
 "metadata": {
  "kernelspec": {
   "display_name": "Python 3.8.13 ('base')",
   "language": "python",
   "name": "python3"
  },
  "language_info": {
   "codemirror_mode": {
    "name": "ipython",
    "version": 3
   },
   "file_extension": ".py",
   "mimetype": "text/x-python",
   "name": "python",
   "nbconvert_exporter": "python",
   "pygments_lexer": "ipython3",
   "version": "3.8.13"
  },
  "orig_nbformat": 4,
  "vscode": {
   "interpreter": {
    "hash": "ff4f85d6e04298634172ac5d8264e7e9b556b95639fe52ebb9425c4d4cba0c9c"
   }
  }
 },
 "nbformat": 4,
 "nbformat_minor": 2
}
